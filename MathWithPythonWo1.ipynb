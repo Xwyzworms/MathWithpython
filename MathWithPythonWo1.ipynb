{
  "nbformat": 4,
  "nbformat_minor": 0,
  "metadata": {
    "colab": {
      "name": "MathWithPythonWo1.ipynb",
      "provenance": []
    },
    "kernelspec": {
      "name": "python3",
      "display_name": "Python 3"
    }
  },
  "cells": [
    {
      "cell_type": "code",
      "metadata": {
        "id": "MSgUl04g0Mti",
        "outputId": "cd697126-2d6e-41d3-ff9f-31d97ad21257",
        "colab": {
          "base_uri": "https://localhost:8080/"
        }
      },
      "source": [
        "## Python Explore The math\n",
        "\n",
        "from fractions import Fraction\n",
        "f = Fraction(3,4)\n",
        "f + 1"
      ],
      "execution_count": 8,
      "outputs": [
        {
          "output_type": "execute_result",
          "data": {
            "text/plain": [
              "Fraction(7, 4)"
            ]
          },
          "metadata": {
            "tags": []
          },
          "execution_count": 8
        }
      ]
    },
    {
      "cell_type": "code",
      "metadata": {
        "id": "-U7zhe-O0fXk",
        "outputId": "a0615877-fa3a-4899-d302-ede38fea3da8",
        "colab": {
          "base_uri": "https://localhost:8080/"
        }
      },
      "source": [
        "a = complex(2,3)\n",
        "b = complex(5,6)\n",
        "c = a - b\n",
        "print(c.real , c.imag)"
      ],
      "execution_count": null,
      "outputs": [
        {
          "output_type": "stream",
          "text": [
            "-3.0 -3.0\n"
          ],
          "name": "stdout"
        }
      ]
    },
    {
      "cell_type": "code",
      "metadata": {
        "id": "gvL8D8Mi2NUt",
        "outputId": "94b6148c-8f5a-4183-b203-ad6415e06cde",
        "colab": {
          "base_uri": "https://localhost:8080/"
        }
      },
      "source": [
        "c.conjugate()"
      ],
      "execution_count": null,
      "outputs": [
        {
          "output_type": "execute_result",
          "data": {
            "text/plain": [
              "(-3+3j)"
            ]
          },
          "metadata": {
            "tags": []
          },
          "execution_count": 14
        }
      ]
    },
    {
      "cell_type": "code",
      "metadata": {
        "id": "fGGVNOGi3WZ-",
        "outputId": "2faa2e10-0b4a-434b-ca65-4c46a14ae2df",
        "colab": {
          "base_uri": "https://localhost:8080/"
        }
      },
      "source": [
        "(c.imag ** 2  + c.real** 2) ** 0.5"
      ],
      "execution_count": null,
      "outputs": [
        {
          "output_type": "execute_result",
          "data": {
            "text/plain": [
              "4.242640687119285"
            ]
          },
          "metadata": {
            "tags": []
          },
          "execution_count": 16
        }
      ]
    },
    {
      "cell_type": "code",
      "metadata": {
        "id": "ZY7NGTS62Ze8",
        "outputId": "2629ea19-44d4-49f8-e99a-ddfd5083ed5b",
        "colab": {
          "base_uri": "https://localhost:8080/"
        }
      },
      "source": [
        "abs(c)"
      ],
      "execution_count": null,
      "outputs": [
        {
          "output_type": "execute_result",
          "data": {
            "text/plain": [
              "4.242640687119285"
            ]
          },
          "metadata": {
            "tags": []
          },
          "execution_count": 15
        }
      ]
    },
    {
      "cell_type": "code",
      "metadata": {
        "id": "tyL5h1fc3jo-",
        "outputId": "1971a0ab-863d-4691-cc25-17345a573b10",
        "colab": {
          "base_uri": "https://localhost:8080/",
          "height": 54
        }
      },
      "source": [
        "a = input(\"Masukan Inputan Kamu Blok !!\")\n",
        "a"
      ],
      "execution_count": null,
      "outputs": [
        {
          "output_type": "stream",
          "text": [
            "Masukan Inputan Kamu Blok !!10\n"
          ],
          "name": "stdout"
        },
        {
          "output_type": "execute_result",
          "data": {
            "application/vnd.google.colaboratory.intrinsic+json": {
              "type": "string"
            },
            "text/plain": [
              "'10'"
            ]
          },
          "metadata": {
            "tags": []
          },
          "execution_count": 17
        }
      ]
    },
    {
      "cell_type": "code",
      "metadata": {
        "id": "5Oo5m7Yw4LUF",
        "outputId": "3efa9bd4-7c3f-4d37-dc32-2ee1dfcb01d5",
        "colab": {
          "base_uri": "https://localhost:8080/"
        }
      },
      "source": [
        "s1 = \"a string\"\n",
        "s2 = \"kambing\"\n",
        "s1 , s2 "
      ],
      "execution_count": null,
      "outputs": [
        {
          "output_type": "execute_result",
          "data": {
            "text/plain": [
              "('a string', 'kambing')"
            ]
          },
          "metadata": {
            "tags": []
          },
          "execution_count": 19
        }
      ]
    },
    {
      "cell_type": "code",
      "metadata": {
        "id": "NTijmftK4h_m",
        "outputId": "ea242a0a-b360-44ae-fd30-68735776da2a",
        "colab": {
          "base_uri": "https://localhost:8080/"
        }
      },
      "source": [
        "int1= int(input(\"Yatoi!!\"))\n",
        "int2 = int(input(\"Jelma pias!!\"))\n",
        "int1 + int2"
      ],
      "execution_count": null,
      "outputs": [
        {
          "output_type": "stream",
          "text": [
            "Fitri asu !!50\n",
            "Jelma pias!!40\n"
          ],
          "name": "stdout"
        },
        {
          "output_type": "execute_result",
          "data": {
            "text/plain": [
              "90"
            ]
          },
          "metadata": {
            "tags": []
          },
          "execution_count": 20
        }
      ]
    },
    {
      "cell_type": "code",
      "metadata": {
        "id": "NdNV1qi945WO",
        "outputId": "f9062f41-374c-4fd6-8551-0d40964e564a",
        "colab": {
          "base_uri": "https://localhost:8080/"
        }
      },
      "source": [
        "try:\n",
        "  a = float(input(\"Teu Baleg\"))\n",
        "except ValueError as e:\n",
        "  a = Fraction(a)\n",
        "  print(a, \"Sampis\")"
      ],
      "execution_count": null,
      "outputs": [
        {
          "output_type": "stream",
          "text": [
            "Teu Baleg3/4\n",
            "3039929748475085/562949953421312 Sampis\n"
          ],
          "name": "stdout"
        }
      ]
    },
    {
      "cell_type": "code",
      "metadata": {
        "id": "zIM3oK5p-wa7",
        "outputId": "a8795422-31da-4c5e-c49c-1353fa5f3415",
        "colab": {
          "base_uri": "https://localhost:8080/"
        }
      },
      "source": [
        "def is_factor(a,b):\n",
        "  if b % a == 0:\n",
        "    return True\n",
        "  else:\n",
        "    return False\n",
        "is_factor(5,2)"
      ],
      "execution_count": null,
      "outputs": [
        {
          "output_type": "execute_result",
          "data": {
            "text/plain": [
              "False"
            ]
          },
          "metadata": {
            "tags": []
          },
          "execution_count": 37
        }
      ]
    },
    {
      "cell_type": "code",
      "metadata": {
        "id": "qgpmMhLG_IlE",
        "outputId": "fbcfecdd-8ac9-4ff7-9a81-6380bbb53bb0",
        "colab": {
          "base_uri": "https://localhost:8080/"
        }
      },
      "source": [
        "for i in range(1,10):\n",
        "  print(i)"
      ],
      "execution_count": null,
      "outputs": [
        {
          "output_type": "stream",
          "text": [
            "1\n",
            "2\n",
            "3\n",
            "4\n",
            "5\n",
            "6\n",
            "7\n",
            "8\n",
            "9\n"
          ],
          "name": "stdout"
        }
      ]
    },
    {
      "cell_type": "code",
      "metadata": {
        "id": "x3j2xb_r7J3V",
        "outputId": "ef041772-f755-4d54-8844-05e7fa245668",
        "colab": {
          "base_uri": "https://localhost:8080/"
        }
      },
      "source": [
        "def factors(b):\n",
        "  for i in range(1,b+1):\n",
        "    if b % i == 0:\n",
        "      print(i)\n",
        "if __name__ == \"__main__\":\n",
        "  b = input(\"Your Number : \")\n",
        "  b = float(b)\n",
        "\n",
        "  if b > 0 and b.is_integer():\n",
        "    factors(int(b))\n",
        "  else:\n",
        "    print(\"Enter Positive Integer\")"
      ],
      "execution_count": null,
      "outputs": [
        {
          "output_type": "stream",
          "text": [
            "Your Number : 50\n",
            "1\n",
            "2\n",
            "5\n",
            "10\n",
            "25\n",
            "50\n"
          ],
          "name": "stdout"
        }
      ]
    },
    {
      "cell_type": "code",
      "metadata": {
        "id": "TD-p2bgNECHs",
        "outputId": "1f6d4b61-41b2-45e3-d618-b080edb07ef4",
        "colab": {
          "base_uri": "https://localhost:8080/"
        }
      },
      "source": [
        "item1 = \"apples\"\n",
        "item2 = \"bananas\"\n",
        "item3 = \"grapes\"\n",
        "print(\"At The Place i bougth some {0} , {1} , and {2}\".format(item1,item2,item3))"
      ],
      "execution_count": null,
      "outputs": [
        {
          "output_type": "stream",
          "text": [
            "At The Place i bougth some apples , bananas , and grapes\n"
          ],
          "name": "stdout"
        }
      ]
    },
    {
      "cell_type": "code",
      "metadata": {
        "id": "CDiM7Z7-EPKX",
        "outputId": "0dd4db83-a690-4847-9b24-b88f2051e62c",
        "colab": {
          "base_uri": "https://localhost:8080/"
        }
      },
      "source": [
        "def multi_table():\n",
        "  for num in range(1,11):\n",
        "    for i in range(1,11):\n",
        "      print(\"{0} * {1} = {2:.2f}\".format(num, i, num*i))\n",
        "    print(\"\\n\")\n",
        "if __name__ ==\"__main__\":\n",
        "  multi_table()"
      ],
      "execution_count": 2,
      "outputs": [
        {
          "output_type": "stream",
          "text": [
            "1 * 1 = 1.00\n",
            "1 * 2 = 2.00\n",
            "1 * 3 = 3.00\n",
            "1 * 4 = 4.00\n",
            "1 * 5 = 5.00\n",
            "1 * 6 = 6.00\n",
            "1 * 7 = 7.00\n",
            "1 * 8 = 8.00\n",
            "1 * 9 = 9.00\n",
            "1 * 10 = 10.00\n",
            "\n",
            "\n",
            "2 * 1 = 2.00\n",
            "2 * 2 = 4.00\n",
            "2 * 3 = 6.00\n",
            "2 * 4 = 8.00\n",
            "2 * 5 = 10.00\n",
            "2 * 6 = 12.00\n",
            "2 * 7 = 14.00\n",
            "2 * 8 = 16.00\n",
            "2 * 9 = 18.00\n",
            "2 * 10 = 20.00\n",
            "\n",
            "\n",
            "3 * 1 = 3.00\n",
            "3 * 2 = 6.00\n",
            "3 * 3 = 9.00\n",
            "3 * 4 = 12.00\n",
            "3 * 5 = 15.00\n",
            "3 * 6 = 18.00\n",
            "3 * 7 = 21.00\n",
            "3 * 8 = 24.00\n",
            "3 * 9 = 27.00\n",
            "3 * 10 = 30.00\n",
            "\n",
            "\n",
            "4 * 1 = 4.00\n",
            "4 * 2 = 8.00\n",
            "4 * 3 = 12.00\n",
            "4 * 4 = 16.00\n",
            "4 * 5 = 20.00\n",
            "4 * 6 = 24.00\n",
            "4 * 7 = 28.00\n",
            "4 * 8 = 32.00\n",
            "4 * 9 = 36.00\n",
            "4 * 10 = 40.00\n",
            "\n",
            "\n",
            "5 * 1 = 5.00\n",
            "5 * 2 = 10.00\n",
            "5 * 3 = 15.00\n",
            "5 * 4 = 20.00\n",
            "5 * 5 = 25.00\n",
            "5 * 6 = 30.00\n",
            "5 * 7 = 35.00\n",
            "5 * 8 = 40.00\n",
            "5 * 9 = 45.00\n",
            "5 * 10 = 50.00\n",
            "\n",
            "\n",
            "6 * 1 = 6.00\n",
            "6 * 2 = 12.00\n",
            "6 * 3 = 18.00\n",
            "6 * 4 = 24.00\n",
            "6 * 5 = 30.00\n",
            "6 * 6 = 36.00\n",
            "6 * 7 = 42.00\n",
            "6 * 8 = 48.00\n",
            "6 * 9 = 54.00\n",
            "6 * 10 = 60.00\n",
            "\n",
            "\n",
            "7 * 1 = 7.00\n",
            "7 * 2 = 14.00\n",
            "7 * 3 = 21.00\n",
            "7 * 4 = 28.00\n",
            "7 * 5 = 35.00\n",
            "7 * 6 = 42.00\n",
            "7 * 7 = 49.00\n",
            "7 * 8 = 56.00\n",
            "7 * 9 = 63.00\n",
            "7 * 10 = 70.00\n",
            "\n",
            "\n",
            "8 * 1 = 8.00\n",
            "8 * 2 = 16.00\n",
            "8 * 3 = 24.00\n",
            "8 * 4 = 32.00\n",
            "8 * 5 = 40.00\n",
            "8 * 6 = 48.00\n",
            "8 * 7 = 56.00\n",
            "8 * 8 = 64.00\n",
            "8 * 9 = 72.00\n",
            "8 * 10 = 80.00\n",
            "\n",
            "\n",
            "9 * 1 = 9.00\n",
            "9 * 2 = 18.00\n",
            "9 * 3 = 27.00\n",
            "9 * 4 = 36.00\n",
            "9 * 5 = 45.00\n",
            "9 * 6 = 54.00\n",
            "9 * 7 = 63.00\n",
            "9 * 8 = 72.00\n",
            "9 * 9 = 81.00\n",
            "9 * 10 = 90.00\n",
            "\n",
            "\n",
            "10 * 1 = 10.00\n",
            "10 * 2 = 20.00\n",
            "10 * 3 = 30.00\n",
            "10 * 4 = 40.00\n",
            "10 * 5 = 50.00\n",
            "10 * 6 = 60.00\n",
            "10 * 7 = 70.00\n",
            "10 * 8 = 80.00\n",
            "10 * 9 = 90.00\n",
            "10 * 10 = 100.00\n",
            "\n",
            "\n"
          ],
          "name": "stdout"
        }
      ]
    },
    {
      "cell_type": "code",
      "metadata": {
        "id": "D1nHhL9bGESR",
        "outputId": "c3cc8595-efbc-4e80-c2dc-37a2584cbc52",
        "colab": {
          "base_uri": "https://localhost:8080/"
        }
      },
      "source": [
        "def print_menu():\n",
        "  print(\"1. Kilometers to Miles\")\n",
        "  print(\"2. Miles to kilometers\")\n",
        "  print(\"3. Farenheit To Celcius\")\n",
        "  print(\"4. Celcius to Farenheit\")\n",
        "  print(\"5. Quadratic Roots\")\n",
        "  print(\"6. Odd/Even VendingMachine\")\n",
        "  print(\"7. Enhanced Multiplication\")\n",
        "  print(\"8. Fraction Calculator\")\n",
        "\n",
        "def km_To_Miles():\n",
        "  km = float(input(\"Enter distance in KM : \"))\n",
        "  miles = km  * 0.62137\n",
        "\n",
        "  print(\"Distance In miles {0}\".format(miles))\n",
        "\n",
        "def miles_to_km():\n",
        "  miles = float(input(\"Enter distance  in Miles :\"))\n",
        "  km = miles * 1.609 \n",
        "\n",
        "  print(\"Distance in KM {0}\".format(km))\n",
        "\n",
        "def F_to_C():\n",
        "  far = float(input(\"Input your Faren\"))\n",
        "  cel = (far - 32) * Fraction(5,9)\n",
        "\n",
        "  print(\"Celcius {0}\".format(cel))\n",
        "\n",
        "def OddEvenMachine():\n",
        "  numbers = int(input(\"Input Number : \"))\n",
        "  if numbers % 2 == 0 :\n",
        "    print(\"Odd\\n\")\n",
        "    count = 0\n",
        "    i = numbers\n",
        "    while count <= 9:\n",
        "      if(i % 2 ==0):\n",
        "        print(i)\n",
        "        count+=1\n",
        "        i+=1\n",
        "      else:\n",
        "        i+=1\n",
        "      \n",
        "  else:\n",
        "    print(\"Odd\\n\")\n",
        "    count = 0\n",
        "    i = numbers\n",
        "    while count <= 9:\n",
        "      if(i % 2 == 1):\n",
        "        print(i)\n",
        "        count+=1\n",
        "        i+=1\n",
        "      else:\n",
        "        i+=1\n",
        "\n",
        "\n",
        "def C_to_F():\n",
        "  cel = float(input(\"Input Your Cel\"))\n",
        "  far = (cel * Fraction(9,5)) + 32\n",
        "\n",
        "  print(\"Farenheit {0}\".format(far))\n",
        "\n",
        "def quadraticRoots():\n",
        "  a = float(input(\"a : \"))\n",
        "  b = float(input(\"b : \"))\n",
        "  c = float(input(\"c : \"))\n",
        "  \n",
        "  D = (b**2 - 4*a*c)** 0.5\n",
        "  x_1 = (-b + D) / 2*a\n",
        "  x_2 = (-b - D) / 2*a\n",
        "\n",
        "  print(\"The x1 {0}\".format(x_1))\n",
        "  print(\"The X2 {0}\".format(x_2))\n",
        "\n",
        "def EnhancedMultipleTable():\n",
        "  whatNumber = int(input(\"What's your number\"))\n",
        "  ManyMult = int(input(\"How many Mult\"))\n",
        "\n",
        "  for i in range(1,ManyMult + 1):\n",
        "    print(\"{0} * {1} = {2}\".format(whatNumber, i, i * whatNumber))\n",
        "\n",
        "def FractionCalculator():\n",
        "  a = Fraction(input(\"What\\'s The first Fraction : \"))\n",
        "  b = Fraction(input(\"What\\'s The Second Fraction : \"))\n",
        "  c = input(\" tambah kurang kali bagi ?\")\n",
        "\n",
        "  if c == \"tambah\":\n",
        "    print(\"{0} + {1} = {2}\".format(a,b,a+b))\n",
        "  elif c == \"kurang\":\n",
        "    print(\"{0} - {1} = {2}\".format(a,b,a-b))\n",
        "  elif c == \"kali\":\n",
        "    print(\"{0} - {1} = {2}\".format(a,b,a*b))\n",
        "  elif c ==\"bagi\":\n",
        "    print(\"{0} - {1} = {2}\".format(a,b,a/b))\n",
        "\n",
        "if __name__ ==\"__main__\":\n",
        "  print_menu()\n",
        "  itulan = int(input(\"Pilih gan\"))\n",
        "  if itulan == 1:\n",
        "    km_To_Miles()\n",
        "  elif itulan == 2:\n",
        "    miles_to_km()\n",
        "  elif itulan == 3:\n",
        "    F_to_C()\n",
        "  elif itulan == 4:\n",
        "    C_to_F()\n",
        "  elif itulan == 5:\n",
        "    quadraticRoots()\n",
        "  elif itulan == 6:\n",
        "    OddEvenMachine()\n",
        "  elif itulan == 7:\n",
        "    EnhancedMultipleTable()\n",
        "  elif itulan == 8:\n",
        "    FractionCalculator()\n",
        "\n",
        "  "
      ],
      "execution_count": 30,
      "outputs": [
        {
          "output_type": "stream",
          "text": [
            "1. Kilometers to Miles\n",
            "2. Miles to kilometers\n",
            "3. Farenheit To Celcius\n",
            "4. Celcius to Farenheit\n",
            "5. Quadratic Roots\n",
            "6. Odd/Even VendingMachine\n",
            "7. Enhanced Multiplication\n",
            "8. Fraction Calculator\n",
            "Pilih gan8\n",
            "What's The first Fraction : 3/4\n",
            "What's The Second Fraction : 3/1\n",
            " tambah kurang kali bagi ?tambah\n",
            "3/4 + 3 = 15/4\n"
          ],
          "name": "stdout"
        }
      ]
    },
    {
      "cell_type": "code",
      "metadata": {
        "id": "OR-OKlvaUJRB"
      },
      "source": [
        ""
      ],
      "execution_count": 13,
      "outputs": []
    }
  ]
}