{
  "nbformat": 4,
  "nbformat_minor": 0,
  "metadata": {
    "colab": {
      "name": "MathWithPythonWo1.ipynb",
      "provenance": [],
      "collapsed_sections": []
    },
    "kernelspec": {
      "name": "python3",
      "display_name": "Python 3"
    }
  },
  "cells": [
    {
      "cell_type": "code",
      "metadata": {
        "id": "MSgUl04g0Mti",
        "outputId": "77db8983-6916-4e3a-f642-a17a18f46956",
        "colab": {
          "base_uri": "https://localhost:8080/"
        }
      },
      "source": [
        "## Python Explore The math\n",
        "\n",
        "from fractions import Fraction\n",
        "f = Fraction(3,4)\n",
        "f + 1"
      ],
      "execution_count": 1,
      "outputs": [
        {
          "output_type": "execute_result",
          "data": {
            "text/plain": [
              "Fraction(7, 4)"
            ]
          },
          "metadata": {
            "tags": []
          },
          "execution_count": 1
        }
      ]
    },
    {
      "cell_type": "code",
      "metadata": {
        "id": "-U7zhe-O0fXk",
        "outputId": "3b40c350-0033-46a5-f589-a4587d81efa5",
        "colab": {
          "base_uri": "https://localhost:8080/"
        }
      },
      "source": [
        "a = complex(2,3)\n",
        "b = complex(5,6)\n",
        "c = a - b\n",
        "print(c.real , c.imag)"
      ],
      "execution_count": 2,
      "outputs": [
        {
          "output_type": "stream",
          "text": [
            "-3.0 -3.0\n"
          ],
          "name": "stdout"
        }
      ]
    },
    {
      "cell_type": "code",
      "metadata": {
        "id": "gvL8D8Mi2NUt",
        "outputId": "643767d3-1282-4fc7-b7f3-d3f3ec47a949",
        "colab": {
          "base_uri": "https://localhost:8080/"
        }
      },
      "source": [
        "c.conjugate()"
      ],
      "execution_count": 3,
      "outputs": [
        {
          "output_type": "execute_result",
          "data": {
            "text/plain": [
              "(-3+3j)"
            ]
          },
          "metadata": {
            "tags": []
          },
          "execution_count": 3
        }
      ]
    },
    {
      "cell_type": "code",
      "metadata": {
        "id": "fGGVNOGi3WZ-",
        "outputId": "f024458e-22bd-44ae-8f0b-f7d8d287f91f",
        "colab": {
          "base_uri": "https://localhost:8080/"
        }
      },
      "source": [
        "(c.imag ** 2  + c.real** 2) ** 0.5"
      ],
      "execution_count": 4,
      "outputs": [
        {
          "output_type": "execute_result",
          "data": {
            "text/plain": [
              "4.242640687119285"
            ]
          },
          "metadata": {
            "tags": []
          },
          "execution_count": 4
        }
      ]
    },
    {
      "cell_type": "code",
      "metadata": {
        "id": "ZY7NGTS62Ze8",
        "outputId": "813a3340-aaf2-43aa-cb65-92698b37e0b3",
        "colab": {
          "base_uri": "https://localhost:8080/"
        }
      },
      "source": [
        "abs(c)"
      ],
      "execution_count": 5,
      "outputs": [
        {
          "output_type": "execute_result",
          "data": {
            "text/plain": [
              "4.242640687119285"
            ]
          },
          "metadata": {
            "tags": []
          },
          "execution_count": 5
        }
      ]
    },
    {
      "cell_type": "code",
      "metadata": {
        "id": "tyL5h1fc3jo-",
        "outputId": "a19c8a08-517e-4ff8-a801-d6a12eed0ecf",
        "colab": {
          "base_uri": "https://localhost:8080/",
          "height": 54
        }
      },
      "source": [
        "a = input(\"Masukan Inputan Kamu Blok !!\")\n",
        "a"
      ],
      "execution_count": 6,
      "outputs": [
        {
          "output_type": "stream",
          "text": [
            "Masukan Inputan Kamu Blok !!u\n"
          ],
          "name": "stdout"
        },
        {
          "output_type": "execute_result",
          "data": {
            "application/vnd.google.colaboratory.intrinsic+json": {
              "type": "string"
            },
            "text/plain": [
              "'u'"
            ]
          },
          "metadata": {
            "tags": []
          },
          "execution_count": 6
        }
      ]
    },
    {
      "cell_type": "code",
      "metadata": {
        "id": "5Oo5m7Yw4LUF",
        "outputId": "da137a88-9adb-428d-8003-672516a7c087",
        "colab": {
          "base_uri": "https://localhost:8080/"
        }
      },
      "source": [
        "s1 = \"a string\"\n",
        "s2 = \"kambing\"\n",
        "s1 , s2 "
      ],
      "execution_count": 7,
      "outputs": [
        {
          "output_type": "execute_result",
          "data": {
            "text/plain": [
              "('a string', 'kambing')"
            ]
          },
          "metadata": {
            "tags": []
          },
          "execution_count": 7
        }
      ]
    },
    {
      "cell_type": "code",
      "metadata": {
        "id": "NTijmftK4h_m",
        "outputId": "9a932ebf-c19d-4b24-f08a-4a7a579a90ad",
        "colab": {
          "base_uri": "https://localhost:8080/"
        }
      },
      "source": [
        "int1= int(input(\"Yatoi!!\"))\n",
        "int2 = int(input(\"Jelma pias!!\"))\n",
        "int1 + int2"
      ],
      "execution_count": 8,
      "outputs": [
        {
          "output_type": "stream",
          "text": [
            "Yatoi!!3\n",
            "Jelma pias!!2\n"
          ],
          "name": "stdout"
        },
        {
          "output_type": "execute_result",
          "data": {
            "text/plain": [
              "5"
            ]
          },
          "metadata": {
            "tags": []
          },
          "execution_count": 8
        }
      ]
    },
    {
      "cell_type": "code",
      "metadata": {
        "id": "NdNV1qi945WO",
        "outputId": "1cfcfb37-16be-4236-89dc-b963c96063d8",
        "colab": {
          "base_uri": "https://localhost:8080/"
        }
      },
      "source": [
        "try:\n",
        "  a = float(input(\"Teu Baleg\"))\n",
        "except ValueError as e:\n",
        "  a = Fraction(a)\n",
        "  print(a, \"Sampis\")"
      ],
      "execution_count": 9,
      "outputs": [
        {
          "output_type": "stream",
          "text": [
            "Teu Baleg3\n"
          ],
          "name": "stdout"
        }
      ]
    },
    {
      "cell_type": "code",
      "metadata": {
        "id": "zIM3oK5p-wa7",
        "outputId": "1e69de3d-04e7-449e-ffe8-ec1baa75d941",
        "colab": {
          "base_uri": "https://localhost:8080/"
        }
      },
      "source": [
        "def is_factor(a,b):\n",
        "  if b % a == 0:\n",
        "    return True\n",
        "  else:\n",
        "    return False\n",
        "is_factor(5,2)"
      ],
      "execution_count": 10,
      "outputs": [
        {
          "output_type": "execute_result",
          "data": {
            "text/plain": [
              "False"
            ]
          },
          "metadata": {
            "tags": []
          },
          "execution_count": 10
        }
      ]
    },
    {
      "cell_type": "code",
      "metadata": {
        "id": "qgpmMhLG_IlE",
        "outputId": "aa76ed32-3699-43fa-e05a-fb109ae5c950",
        "colab": {
          "base_uri": "https://localhost:8080/"
        }
      },
      "source": [
        "for i in range(1,10):\n",
        "  print(i)"
      ],
      "execution_count": 11,
      "outputs": [
        {
          "output_type": "stream",
          "text": [
            "1\n",
            "2\n",
            "3\n",
            "4\n",
            "5\n",
            "6\n",
            "7\n",
            "8\n",
            "9\n"
          ],
          "name": "stdout"
        }
      ]
    },
    {
      "cell_type": "code",
      "metadata": {
        "id": "x3j2xb_r7J3V",
        "outputId": "47c3a50f-08c0-47d2-d436-2529f54f4721",
        "colab": {
          "base_uri": "https://localhost:8080/"
        }
      },
      "source": [
        "def factors(b):\n",
        "  for i in range(1,b+1):\n",
        "    if b % i == 0:\n",
        "      print(i)\n",
        "if __name__ == \"__main__\":\n",
        "  b = input(\"Your Number : \")\n",
        "  b = float(b)\n",
        "\n",
        "  if b > 0 and b.is_integer():\n",
        "    factors(int(b))\n",
        "  else:\n",
        "    print(\"Enter Positive Integer\")"
      ],
      "execution_count": 12,
      "outputs": [
        {
          "output_type": "stream",
          "text": [
            "Your Number : 4\n",
            "1\n",
            "2\n",
            "4\n"
          ],
          "name": "stdout"
        }
      ]
    },
    {
      "cell_type": "code",
      "metadata": {
        "id": "TD-p2bgNECHs",
        "outputId": "ef2176e6-cb79-4f54-ca5a-b7828a2c6dea",
        "colab": {
          "base_uri": "https://localhost:8080/"
        }
      },
      "source": [
        "item1 = \"apples\"\n",
        "item2 = \"bananas\"\n",
        "item3 = \"grapes\"\n",
        "print(\"At The Place i bougth some {0} , {1} , and {2}\".format(item1,item2,item3))"
      ],
      "execution_count": 13,
      "outputs": [
        {
          "output_type": "stream",
          "text": [
            "At The Place i bougth some apples , bananas , and grapes\n"
          ],
          "name": "stdout"
        }
      ]
    },
    {
      "cell_type": "code",
      "metadata": {
        "id": "CDiM7Z7-EPKX",
        "outputId": "48daffa1-308e-4d2c-dc94-9c78d80f6f04",
        "colab": {
          "base_uri": "https://localhost:8080/"
        }
      },
      "source": [
        "def multi_table():\n",
        "  for num in range(1,11):\n",
        "    for i in range(1,11):\n",
        "      print(\"{0} * {1} = {2:.2f}\".format(num, i, num*i))\n",
        "    print(\"\\n\")\n",
        "if __name__ ==\"__main__\":\n",
        "  multi_table()"
      ],
      "execution_count": 14,
      "outputs": [
        {
          "output_type": "stream",
          "text": [
            "1 * 1 = 1.00\n",
            "1 * 2 = 2.00\n",
            "1 * 3 = 3.00\n",
            "1 * 4 = 4.00\n",
            "1 * 5 = 5.00\n",
            "1 * 6 = 6.00\n",
            "1 * 7 = 7.00\n",
            "1 * 8 = 8.00\n",
            "1 * 9 = 9.00\n",
            "1 * 10 = 10.00\n",
            "\n",
            "\n",
            "2 * 1 = 2.00\n",
            "2 * 2 = 4.00\n",
            "2 * 3 = 6.00\n",
            "2 * 4 = 8.00\n",
            "2 * 5 = 10.00\n",
            "2 * 6 = 12.00\n",
            "2 * 7 = 14.00\n",
            "2 * 8 = 16.00\n",
            "2 * 9 = 18.00\n",
            "2 * 10 = 20.00\n",
            "\n",
            "\n",
            "3 * 1 = 3.00\n",
            "3 * 2 = 6.00\n",
            "3 * 3 = 9.00\n",
            "3 * 4 = 12.00\n",
            "3 * 5 = 15.00\n",
            "3 * 6 = 18.00\n",
            "3 * 7 = 21.00\n",
            "3 * 8 = 24.00\n",
            "3 * 9 = 27.00\n",
            "3 * 10 = 30.00\n",
            "\n",
            "\n",
            "4 * 1 = 4.00\n",
            "4 * 2 = 8.00\n",
            "4 * 3 = 12.00\n",
            "4 * 4 = 16.00\n",
            "4 * 5 = 20.00\n",
            "4 * 6 = 24.00\n",
            "4 * 7 = 28.00\n",
            "4 * 8 = 32.00\n",
            "4 * 9 = 36.00\n",
            "4 * 10 = 40.00\n",
            "\n",
            "\n",
            "5 * 1 = 5.00\n",
            "5 * 2 = 10.00\n",
            "5 * 3 = 15.00\n",
            "5 * 4 = 20.00\n",
            "5 * 5 = 25.00\n",
            "5 * 6 = 30.00\n",
            "5 * 7 = 35.00\n",
            "5 * 8 = 40.00\n",
            "5 * 9 = 45.00\n",
            "5 * 10 = 50.00\n",
            "\n",
            "\n",
            "6 * 1 = 6.00\n",
            "6 * 2 = 12.00\n",
            "6 * 3 = 18.00\n",
            "6 * 4 = 24.00\n",
            "6 * 5 = 30.00\n",
            "6 * 6 = 36.00\n",
            "6 * 7 = 42.00\n",
            "6 * 8 = 48.00\n",
            "6 * 9 = 54.00\n",
            "6 * 10 = 60.00\n",
            "\n",
            "\n",
            "7 * 1 = 7.00\n",
            "7 * 2 = 14.00\n",
            "7 * 3 = 21.00\n",
            "7 * 4 = 28.00\n",
            "7 * 5 = 35.00\n",
            "7 * 6 = 42.00\n",
            "7 * 7 = 49.00\n",
            "7 * 8 = 56.00\n",
            "7 * 9 = 63.00\n",
            "7 * 10 = 70.00\n",
            "\n",
            "\n",
            "8 * 1 = 8.00\n",
            "8 * 2 = 16.00\n",
            "8 * 3 = 24.00\n",
            "8 * 4 = 32.00\n",
            "8 * 5 = 40.00\n",
            "8 * 6 = 48.00\n",
            "8 * 7 = 56.00\n",
            "8 * 8 = 64.00\n",
            "8 * 9 = 72.00\n",
            "8 * 10 = 80.00\n",
            "\n",
            "\n",
            "9 * 1 = 9.00\n",
            "9 * 2 = 18.00\n",
            "9 * 3 = 27.00\n",
            "9 * 4 = 36.00\n",
            "9 * 5 = 45.00\n",
            "9 * 6 = 54.00\n",
            "9 * 7 = 63.00\n",
            "9 * 8 = 72.00\n",
            "9 * 9 = 81.00\n",
            "9 * 10 = 90.00\n",
            "\n",
            "\n",
            "10 * 1 = 10.00\n",
            "10 * 2 = 20.00\n",
            "10 * 3 = 30.00\n",
            "10 * 4 = 40.00\n",
            "10 * 5 = 50.00\n",
            "10 * 6 = 60.00\n",
            "10 * 7 = 70.00\n",
            "10 * 8 = 80.00\n",
            "10 * 9 = 90.00\n",
            "10 * 10 = 100.00\n",
            "\n",
            "\n"
          ],
          "name": "stdout"
        }
      ]
    },
    {
      "cell_type": "code",
      "metadata": {
        "id": "D1nHhL9bGESR",
        "outputId": "711cef31-cf37-4739-fac1-75cefa6be3f2",
        "colab": {
          "base_uri": "https://localhost:8080/"
        }
      },
      "source": [
        "def print_menu():\n",
        "  print(\"1. Kilometers to Miles\")\n",
        "  print(\"2. Miles to kilometers\")\n",
        "  print(\"3. Farenheit To Celcius\")\n",
        "  print(\"4. Celcius to Farenheit\")\n",
        "  print(\"5. Quadratic Roots\")\n",
        "  print(\"6. Odd/Even VendingMachine\")\n",
        "  print(\"7. Enhanced Multiplication\")\n",
        "  print(\"8. Fraction Calculator\")\n",
        "  print(\"9. Kilo to Miles\")\n",
        "\n",
        "def km_To_Miles():\n",
        "  km = float(input(\"Enter distance in KM : \"))\n",
        "  miles = km  * 0.62137\n",
        "\n",
        "  print(\"Distance In miles {0}\".format(miles))\n",
        "\n",
        "def miles_to_km():\n",
        "  miles = float(input(\"Enter distance  in Miles :\"))\n",
        "  km = miles * 1.609 \n",
        "\n",
        "  print(\"Distance in KM {0}\".format(km))\n",
        "\n",
        "def F_to_C():\n",
        "  far = float(input(\"Input your Faren\"))\n",
        "  cel = (far - 32) * Fraction(5,9)\n",
        "\n",
        "  print(\"Celcius {0}\".format(cel))\n",
        "\n",
        "def OddEvenMachine():\n",
        "  numbers = int(input(\"Input Number : \"))\n",
        "  if numbers % 2 == 0 :\n",
        "    print(\"Odd\\n\")\n",
        "    count = 0\n",
        "    i = numbers\n",
        "    while count <= 9:\n",
        "      if(i % 2 ==0):\n",
        "        print(i)\n",
        "        count+=1\n",
        "        i+=1\n",
        "      else:\n",
        "        i+=1\n",
        "      \n",
        "  else:\n",
        "    print(\"Odd\\n\")\n",
        "    count = 0\n",
        "    i = numbers\n",
        "    while count <= 9:\n",
        "      if(i % 2 == 1):\n",
        "        print(i)\n",
        "        count+=1\n",
        "        i+=1\n",
        "      else:\n",
        "        i+=1\n",
        "\n",
        "\n",
        "def C_to_F():\n",
        "  cel = float(input(\"Input Your Cel\"))\n",
        "  far = (cel * Fraction(9,5)) + 32\n",
        "\n",
        "  print(\"Farenheit {0}\".format(far))\n",
        "\n",
        "def quadraticRoots():\n",
        "  a = float(input(\"a : \"))\n",
        "  b = float(input(\"b : \"))\n",
        "  c = float(input(\"c : \"))\n",
        "  \n",
        "  D = (b**2 - 4*a*c)** 0.5\n",
        "  x_1 = (-b + D) / 2*a\n",
        "  x_2 = (-b - D) / 2*a\n",
        "\n",
        "  print(\"The x1 {0}\".format(x_1))\n",
        "  print(\"The X2 {0}\".format(x_2))\n",
        "def Kilograms_to_pounds():\n",
        "  Kilo = float(input(\"Berapa Kilo gan ? \"))\n",
        "  pounds = Kilo * 2.20462\n",
        "\n",
        "  print(\"{0} Kilo same as {1} pounds\".format(Kilo,pounds))\n",
        "def EnhancedMultipleTable():\n",
        "  whatNumber = int(input(\"What's your number\"))\n",
        "  ManyMult = int(input(\"How many Mult\"))\n",
        "\n",
        "  for i in range(1,ManyMult + 1):\n",
        "    print(\"{0} * {1} = {2}\".format(whatNumber, i, i * whatNumber))\n",
        "\n",
        "def FractionCalculator():\n",
        "  a = Fraction(input(\"What\\'s The first Fraction : \"))\n",
        "  b = Fraction(input(\"What\\'s The Second Fraction : \"))\n",
        "  c = input(\" tambah kurang kali bagi ?\")\n",
        "\n",
        "  if c == \"tambah\":\n",
        "    print(\"{0} + {1} = {2}\".format(a,b,a+b))\n",
        "  elif c == \"kurang\":\n",
        "    print(\"{0} - {1} = {2}\".format(a,b,a-b))\n",
        "  elif c == \"kali\":\n",
        "    print(\"{0} - {1} = {2}\".format(a,b,a*b))\n",
        "  elif c ==\"bagi\":\n",
        "    print(\"{0} - {1} = {2}\".format(a,b,a/b))\n",
        "\n",
        "if __name__ ==\"__main__\":\n",
        "  while True:  \n",
        "      print_menu()\n",
        "      itulan = int(input(\"Pilih gan\"))\n",
        "      if itulan == 1:\n",
        "        km_To_Miles()\n",
        "      elif itulan == 2:\n",
        "        miles_to_km()\n",
        "      elif itulan == 3:\n",
        "        F_to_C()\n",
        "      elif itulan == 4:\n",
        "        C_to_F()\n",
        "      elif itulan == 5:\n",
        "        quadraticRoots()\n",
        "      elif itulan == 6:\n",
        "        OddEvenMachine()\n",
        "      elif itulan == 7:\n",
        "        EnhancedMultipleTable()\n",
        "      elif itulan == 8:\n",
        "        FractionCalculator()\n",
        "      elif itulan == 9:\n",
        "        Kilograms_to_pounds()\n",
        "    \n",
        "      a = input(\"Lagi gak ? y / n\")\n",
        "      if a == \"n\":\n",
        "        break  \n",
        "    "
      ],
      "execution_count": 30,
      "outputs": [
        {
          "output_type": "stream",
          "text": [
            "1. Kilometers to Miles\n",
            "2. Miles to kilometers\n",
            "3. Farenheit To Celcius\n",
            "4. Celcius to Farenheit\n",
            "5. Quadratic Roots\n",
            "6. Odd/Even VendingMachine\n",
            "7. Enhanced Multiplication\n",
            "8. Fraction Calculator\n",
            "9. Kilo to Miles\n",
            "Pilih gan1\n",
            "Enter distance in KM : 34\n",
            "Distance In miles 21.12658\n",
            "Lagi gak ? y / ny\n",
            "1. Kilometers to Miles\n",
            "2. Miles to kilometers\n",
            "3. Farenheit To Celcius\n",
            "4. Celcius to Farenheit\n",
            "5. Quadratic Roots\n",
            "6. Odd/Even VendingMachine\n",
            "7. Enhanced Multiplication\n",
            "8. Fraction Calculator\n",
            "9. Kilo to Miles\n",
            "Pilih gan2\n",
            "Enter distance  in Miles :42\n",
            "Distance in KM 67.578\n",
            "Lagi gak ? y / nn\n"
          ],
          "name": "stdout"
        }
      ]
    },
    {
      "cell_type": "code",
      "metadata": {
        "id": "mGE4-CUY6awH"
      },
      "source": [
        ""
      ],
      "execution_count": null,
      "outputs": []
    }
  ]
}